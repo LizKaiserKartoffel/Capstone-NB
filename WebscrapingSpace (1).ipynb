{
 "cells": [
  {
   "cell_type": "code",
   "execution_count": 1,
   "id": "c62391e7-8f04-4f27-a7e1-5fb53d477b17",
   "metadata": {
    "tags": []
   },
   "outputs": [
    {
     "name": "stdout",
     "output_type": "stream",
     "text": [
      "Requirement already satisfied: beautifulsoup4 in /home/jupyterlab/conda/envs/python/lib/python3.7/site-packages (4.11.1)\n",
      "Requirement already satisfied: soupsieve>1.2 in /home/jupyterlab/conda/envs/python/lib/python3.7/site-packages (from beautifulsoup4) (2.3.2.post1)\n",
      "Requirement already satisfied: requests in /home/jupyterlab/conda/envs/python/lib/python3.7/site-packages (2.29.0)\n",
      "Requirement already satisfied: charset-normalizer<4,>=2 in /home/jupyterlab/conda/envs/python/lib/python3.7/site-packages (from requests) (3.1.0)\n",
      "Requirement already satisfied: idna<4,>=2.5 in /home/jupyterlab/conda/envs/python/lib/python3.7/site-packages (from requests) (3.4)\n",
      "Requirement already satisfied: urllib3<1.27,>=1.21.1 in /home/jupyterlab/conda/envs/python/lib/python3.7/site-packages (from requests) (1.26.15)\n",
      "Requirement already satisfied: certifi>=2017.4.17 in /home/jupyterlab/conda/envs/python/lib/python3.7/site-packages (from requests) (2023.5.7)\n"
     ]
    }
   ],
   "source": [
    "!pip3 install beautifulsoup4\n",
    "!pip3 install requests"
   ]
  },
  {
   "cell_type": "code",
   "execution_count": 2,
   "id": "d63d4bf3-8dfb-4b07-a022-3112c4e91f82",
   "metadata": {
    "tags": []
   },
   "outputs": [],
   "source": [
    "import requests\n",
    "from bs4 import BeautifulSoup\n",
    "import re\n",
    "import unicodedata\n",
    "import pandas as pd"
   ]
  },
  {
   "cell_type": "code",
   "execution_count": 3,
   "id": "56952743-a939-4ac2-a916-a6ec950b360e",
   "metadata": {
    "tags": []
   },
   "outputs": [],
   "source": [
    "def date_time(table_cells):\n",
    "    return [data_time.strip() for data_time in list(table_cells.strings)][0:2]\n",
    "\n",
    "def booster_version(table_cells):\n",
    "    out=''.join([booster_version for i,booster_version in enumerate(table_cells.strings) if i%2==0][0:-1])\n",
    "    return out\n",
    "\n",
    "def landing_status(table_cells):\n",
    "    out=[i for i in table_cells.strings][0]\n",
    "    return out\n",
    "\n",
    "def get_mass(table_cells):\n",
    "    mass=unicodedata.normalize(\"NFKD\", table_cells.text).strip()\n",
    "    if mass:\n",
    "        mass.find(\"kg\")\n",
    "        new_mass=mass[0:mass.find(\"kg\")+2]\n",
    "    else:\n",
    "        new_mass=0\n",
    "    return new_mass\n",
    "\n",
    "def extract_column_from_header(row):\n",
    "    if (row.br):\n",
    "        row.br.extract()\n",
    "    if row.a:\n",
    "        row.a.extract()\n",
    "    if row.sup:\n",
    "        row.sup.extract()\n",
    "    colunm_name = ' '.join(row.contents)\n",
    "    if not(colunm_name.strip().isdigit()):\n",
    "        colunm_name = colunm_name.strip()\n",
    "        return colunm_name"
   ]
  },
  {
   "cell_type": "code",
   "execution_count": 4,
   "id": "483bc1fb-a882-4f9b-8721-141311762bcc",
   "metadata": {
    "tags": []
   },
   "outputs": [],
   "source": [
    "static_url = \"https://en.wikipedia.org/w/index.php?title=List_of_Falcon_9_and_Falcon_Heavy_launches&oldid=1027686922\"\n",
    "response = requests.get(static_url)\n",
    "soup = BeautifulSoup(response.text, 'html.parser')"
   ]
  },
  {
   "cell_type": "markdown",
   "id": "5dc8c2a7-1792-4b52-8a9b-ee36181ff619",
   "metadata": {},
   "source": [
    "### TASK 2: Extract all column/variable names from the HTML table header"
   ]
  },
  {
   "cell_type": "code",
   "execution_count": 5,
   "id": "40a7b119-0374-4aff-bf6f-f308bb199b2f",
   "metadata": {
    "tags": []
   },
   "outputs": [
    {
     "name": "stdout",
     "output_type": "stream",
     "text": [
      "['Flight No.', 'Date and time ( )', 'Launch site', 'Payload', 'Payload mass', 'Orbit', 'Customer', 'Launch outcome']\n"
     ]
    }
   ],
   "source": [
    "html_tables = soup.find_all('table', \"wikitable plainrowheaders collapsible\")\n",
    "first_launch_table = html_tables[2]\n",
    "column_names = []\n",
    "for th in first_launch_table.find_all('th'):\n",
    "    name = extract_column_from_header(th)\n",
    "    if name:\n",
    "        column_names.append(name)\n",
    "print(column_names)"
   ]
  },
  {
   "cell_type": "code",
   "execution_count": 6,
   "id": "f6dad9b7-56f3-43ac-8bb1-2f14fdcce267",
   "metadata": {
    "tags": []
   },
   "outputs": [],
   "source": [
    "launch_dict = dict.fromkeys(column_names)\n",
    "del launch_dict['Date and time ( )']\n",
    "for key in launch_dict.keys():\n",
    "    launch_dict[key] = []"
   ]
  },
  {
   "cell_type": "code",
   "execution_count": 8,
   "id": "8f905ed6-1b38-4e10-ab10-6857820290eb",
   "metadata": {
    "tags": []
   },
   "outputs": [],
   "source": [
    "# Créer un dictionnaire pour stocker les données\n",
    "launch_dict = {\n",
    "    'Flight No.': [],\n",
    "    'Launch site': [],\n",
    "    'Payload': [],\n",
    "    'Payload mass': [],\n",
    "    'Orbit': [],\n",
    "    'Customer': [],\n",
    "    'Launch outcome': [],\n",
    "    'Version Booster': [],\n",
    "    'Booster landing': [],\n",
    "    'Date': [],\n",
    "    'Time': []\n",
    "}"
   ]
  },
  {
   "cell_type": "code",
   "execution_count": 10,
   "id": "32f9e29d-97c5-42cd-afbc-064a581feb81",
   "metadata": {
    "tags": []
   },
   "outputs": [],
   "source": [
    "extracted_row = 0\n",
    "for table_number, table in enumerate(soup.find_all('table', \"wikitable plainrowheaders collapsible\")):\n",
    "    for rows in table.find_all(\"tr\"):\n",
    "        if rows.th and rows.th.string and rows.th.string.strip().isdigit():\n",
    "            flight_number = rows.th.string.strip()\n",
    "            row = rows.find_all('td')\n",
    "            if row:\n",
    "                datatimelist = date_time(row[0])\n",
    "                launch_dict['Flight No.'].append(flight_number)\n",
    "                launch_dict['Date'].append(datatimelist[0].strip(','))\n",
    "                launch_dict['Time'].append(datatimelist[1])\n",
    "                launch_dict['Version Booster'].append(booster_version(row[1]))\n",
    "                launch_dict['Launch site'].append(row[2].a.string if row[2].a else None)\n",
    "                launch_dict['Payload'].append(row[3].a.string if row[3].a else None)\n",
    "                launch_dict['Payload mass'].append(get_mass(row[4]))\n",
    "                launch_dict['Orbit'].append(row[5].a.string if row[5].a else None)\n",
    "                launch_dict['Customer'].append(row[6].a.string if row[6].a else None)\n",
    "                launch_dict['Launch outcome'].append(list(row[7].strings)[0] if row[7].strings else None)\n",
    "                launch_dict['Booster landing'].append(landing_status(row[8]))"
   ]
  },
  {
   "cell_type": "code",
   "execution_count": 11,
   "id": "60c4f0c5-ed11-4c54-9e05-60f8814cf978",
   "metadata": {
    "tags": []
   },
   "outputs": [],
   "source": [
    "df = pd.DataFrame({key: pd.Series(value) for key, value in launch_dict.items()})\n",
    "df.to_csv('spacex_web_scraped.csv', index=False)"
   ]
  },
  {
   "cell_type": "code",
   "execution_count": null,
   "id": "fbe2dec2-d3e2-4523-8457-8be4a0a5d144",
   "metadata": {},
   "outputs": [],
   "source": []
  }
 ],
 "metadata": {
  "kernelspec": {
   "display_name": "Python",
   "language": "python",
   "name": "conda-env-python-py"
  },
  "language_info": {
   "codemirror_mode": {
    "name": "ipython",
    "version": 3
   },
   "file_extension": ".py",
   "mimetype": "text/x-python",
   "name": "python",
   "nbconvert_exporter": "python",
   "pygments_lexer": "ipython3",
   "version": "3.7.12"
  }
 },
 "nbformat": 4,
 "nbformat_minor": 5
}
